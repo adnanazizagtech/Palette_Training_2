{
  "cells": [
    {
      "cell_type": "markdown",
      "metadata": {
        "id": "pf5SXa1XeBkI"
      },
      "source": [
        "# Assignement 2\n"
      ]
    },
    {
      "cell_type": "markdown",
      "metadata": {
        "id": "txLDhiheeJtw"
      },
      "source": [
        "Please do not change, delete or edit any cells. Write your code in between designated lines.\n",
        "\n"
      ]
    },
    {
      "cell_type": "markdown",
      "metadata": {
        "id": "pVXIH2TLfXYF"
      },
      "source": [
        "## Question 1 (10 points)"
      ]
    },
    {
      "cell_type": "code",
      "execution_count": 23,
      "metadata": {
        "id": "VS-FTxUHfclH"
      },
      "outputs": [
        {
          "name": "stdout",
          "output_type": "stream",
          "text": [
            "The Result of this code is:\n",
            "A\n",
            "g\n",
            "r\n",
            "i\n",
            "c\n",
            "u\n",
            "l\n",
            "t\n",
            "u\n",
            "r\n",
            "e\n"
          ]
        }
      ],
      "source": [
        "# Can your print the letters of Agriculture by using for loops. Your output will look like this:\n",
        "# A\n",
        "# g\n",
        "# r\n",
        "# i\n",
        "# c\n",
        "# u\n",
        "# l\n",
        "# t\n",
        "# u\n",
        "# r\n",
        "# e\n",
        "\n",
        "## Your code here - down ##\n",
        "str_word = \"Agriculture\"\n",
        "print(\"The Result of this code is:\")\n",
        "for i in str_word:\n",
        "    print(i)\n",
        "## Your code here - up ##\n"
      ]
    },
    {
      "cell_type": "markdown",
      "metadata": {
        "id": "rTT_VIPMefpk"
      },
      "source": [
        "## Question 2 (40 Points)"
      ]
    },
    {
      "cell_type": "code",
      "execution_count": 24,
      "metadata": {
        "id": "dQp85EhveEWB"
      },
      "outputs": [
        {
          "name": "stdout",
          "output_type": "stream",
          "text": [
            "Sum of numbers range from 1 to 50: 1275\n"
          ]
        }
      ],
      "source": [
        "# Find the sum of numbers from 1 to 50(including) by using for loops.\n",
        "\n",
        "## Your code here - down ##\n",
        "int_sum = 0     \n",
        "for i in range(1,51):\n",
        "    int_sum += i\n",
        "print(\"Sum of numbers range from 1 to 50:\",int_sum)\n",
        "\n",
        "## Your code here - up ##"
      ]
    },
    {
      "cell_type": "markdown",
      "metadata": {
        "id": "gijHHMnjgZPy"
      },
      "source": [
        "## Question 3 (50 points)"
      ]
    },
    {
      "cell_type": "code",
      "execution_count": 29,
      "metadata": {
        "id": "IXBo2RM2gYPR"
      },
      "outputs": [
        {
          "name": "stdout",
          "output_type": "stream",
          "text": [
            "Sum of even numbers range: 650\n",
            "Sum of odd numbers range: 625\n",
            "The sum of even and odd numbers range is different.\n"
          ]
        }
      ],
      "source": [
        "# Now let's find sum of even and odd numbers from 1 to 50 (including). Are the results same?\n",
        "\n",
        "# Sum of even  numbers\n",
        "\n",
        "## Your code here - down ##\n",
        "int_even_sum = 0\n",
        "int_odd_sum = 0\n",
        "for i in range(1,51):\n",
        "    if i%2 == 0:\n",
        "        int_even_sum += i\n",
        "    else:\n",
        "        int_odd_sum += i\n",
        "\n",
        "print(\"Sum of even numbers range:\", int_even_sum)\n",
        "print(\"Sum of odd numbers range:\", int_odd_sum)\n",
        "\n",
        "if int_even_sum == int_odd_sum:\n",
        "    print(\"The sum of even and odd number range is same.\")\n",
        "else:\n",
        "    print(\"The sum of even and odd numbers range is different.\")\n",
        "\n",
        "## Your code here - up ##"
      ]
    },
    {
      "cell_type": "code",
      "execution_count": 30,
      "metadata": {
        "id": "xQh-bx6ohCe-"
      },
      "outputs": [
        {
          "name": "stdout",
          "output_type": "stream",
          "text": [
            "Result of Sum of Odd numbers: 625\n"
          ]
        }
      ],
      "source": [
        "# Sum of odd numbers\n",
        "\n",
        "## Your code here - down ##\n",
        "int_odd_sum = 0\n",
        "for i in range(1,51):\n",
        "    if i%2 != 0:\n",
        "        int_odd_sum += i\n",
        "print(\"Result of Sum of Odd numbers:\",int_odd_sum)\n",
        "\n",
        "## Your code here - up ##"
      ]
    },
    {
      "cell_type": "code",
      "execution_count": 31,
      "metadata": {
        "id": "OeIXVOYThLbA"
      },
      "outputs": [
        {
          "name": "stdout",
          "output_type": "stream",
          "text": [
            "Sum of even numbers range of 1 to  50 : 650\n",
            "Sum of odd numbers range of 1 to  50 : 625\n",
            "The result for sum of even and odd numbers range is different.\n",
            "The difference is 25 Both odd and even number results are different because the sum of even numbers is always divisible by 2, while the sum of odd numbers is not.\n"
          ]
        }
      ],
      "source": [
        "# In this cell explain the difference.\n",
        "def function_sum_even_odd_numbers(int_num):\n",
        "    int_even_sum = 0\n",
        "    int_odd_sum = 0\n",
        "\n",
        "    for i in range(1, int_num+1):\n",
        "        if i % 2 == 0:\n",
        "            int_even_sum += i\n",
        "        else:\n",
        "            int_odd_sum += i\n",
        "\n",
        "    print(\"Sum of even numbers range of 1 to \", int_num, \":\", int_even_sum)\n",
        "    print(\"Sum of odd numbers range of 1 to \", int_num, \":\", int_odd_sum)\n",
        "\n",
        "    if int_even_sum == int_odd_sum:\n",
        "        print(\"The Result for sum of even and odd numbers range is same.\")\n",
        "    else:\n",
        "        print(\"The result for sum of even and odd numbers range is different.\")\n",
        "        print(\"The difference is\", abs(int_even_sum - int_odd_sum), \n",
        "        \"Both odd and even number results are different because the sum of even numbers is always divisible by 2, while the sum of odd numbers is not.\")\n",
        "\n",
        "function_sum_even_odd_numbers(50)"
      ]
    }
  ],
  "metadata": {
    "colab": {
      "provenance": []
    },
    "kernelspec": {
      "display_name": "Python 3",
      "language": "python",
      "name": "python3"
    },
    "language_info": {
      "codemirror_mode": {
        "name": "ipython",
        "version": 3
      },
      "file_extension": ".py",
      "mimetype": "text/x-python",
      "name": "python",
      "nbconvert_exporter": "python",
      "pygments_lexer": "ipython3",
      "version": "3.11.1"
    },
    "vscode": {
      "interpreter": {
        "hash": "007d6416734a66a15f32340c037a1d8787ab616d5c0759a52dcdcf3d799c1ab6"
      }
    }
  },
  "nbformat": 4,
  "nbformat_minor": 0
}
